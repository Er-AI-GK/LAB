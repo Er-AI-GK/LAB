{
  "nbformat": 4,
  "nbformat_minor": 0,
  "metadata": {
    "colab": {
      "provenance": [],
      "collapsed_sections": [
        "elEGGdFV1fa2",
        "k-ufR1z49KnA",
        "0UgmdTSX_Urx"
      ],
      "mount_file_id": "1_rceTFw4YJDB0htPGaaPXN8JliPgLK3R",
      "authorship_tag": "ABX9TyODCg+nM7Blc9wEZyYJJhNP",
      "include_colab_link": true
    },
    "kernelspec": {
      "name": "python3",
      "display_name": "Python 3"
    },
    "language_info": {
      "name": "python"
    }
  },
  "cells": [
    {
      "cell_type": "markdown",
      "metadata": {
        "id": "view-in-github",
        "colab_type": "text"
      },
      "source": [
        "<a href=\"https://colab.research.google.com/github/Er-AI-GK/LeetCode_Problems/blob/main/MLT_LAB.ipynb\" target=\"_parent\"><img src=\"https://colab.research.google.com/assets/colab-badge.svg\" alt=\"Open In Colab\"/></a>"
      ]
    },
    {
      "cell_type": "markdown",
      "source": [
        "FIND S ALGORITHM"
      ],
      "metadata": {
        "id": "mqOCNy8N81l1"
      }
    },
    {
      "cell_type": "code",
      "source": [
        "# Find-S Algorithm\n",
        "\n",
        "import csv\n",
        "def loadcsv(book1):\n",
        "    lines=csv.reader(open(\"/content/drive/MyDrive/Colab Notebooks/MLT LAB/data1.csv\", \"r\"));\n",
        "    dataset= list(lines)\n",
        "    headers= dataset.pop(0)\n",
        "    return dataset, headers\n",
        "def print_hypothesis(h):\n",
        "    print('<',end='')\n",
        "    for i in range(0,len(h)-1):\n",
        "        print(h[i],end=',')\n",
        "    print('>')\n",
        "        \n",
        "def findS():\n",
        "    dataset,features=loadcsv('/content/drive/MyDrive/Colab Notebooks/MLT LAB/data1.csv')\n",
        "    rows=len(dataset);\n",
        "    cols=len(dataset[0]);\n",
        "            \n",
        "    flag=0\n",
        "    for x in range(0,rows):\n",
        "        t=dataset[x]\n",
        "                \n",
        "        if t[-1]=='1'and flag==0:\n",
        "            flag=1\n",
        "            h=dataset[x]\n",
        "        elif t[-1]=='1':\n",
        "            for y in range(cols):\n",
        "                    if h [y]!=t[y]:\n",
        "                        h[y]='?'\n",
        "        #print(\"Training instance{0}the hypothesis is:\".format (x+1),end='')\n",
        "                                \n",
        "        #print_hypothesis(h)\n",
        "    print(\"The maximally specific hypothesis for a given training examples\")\n",
        "    #print(h)\n",
        "    print_hypothesis(h)\n",
        "findS()\n"
      ],
      "metadata": {
        "id": "lmm7mmWi9IIt",
        "colab": {
          "base_uri": "https://localhost:8080/"
        },
        "outputId": "e714631f-fa7e-4e6d-9a87-0fea012f1918"
      },
      "execution_count": 1,
      "outputs": [
        {
          "output_type": "stream",
          "name": "stdout",
          "text": [
            "The maximally specific hypothesis for a given training examples\n",
            "<Sunny,warm,?,strong,?,?,>\n"
          ]
        }
      ]
    },
    {
      "cell_type": "markdown",
      "source": [
        "CANDIDATE ELIMINATION"
      ],
      "metadata": {
        "id": "NM1l7_Eu-fW3"
      }
    },
    {
      "cell_type": "code",
      "source": [
        "import csv\n",
        "\n",
        "def get_domains(examples):\n",
        "    d = [set() for i in examples[0]]\n",
        "    for x in examples:\n",
        "        for i, xi in enumerate(x):\n",
        "            d[i].add(xi)\n",
        "    return [list(sorted(x)) for x in d]\n",
        "def more_general(h1, h2):\n",
        "    more_general_parts = []\n",
        "    for x, y in zip(h1, h2):\n",
        "        mg = x == \"?\" or (x != \"0\" and (x == y or y == \"0\"))\n",
        "        more_general_parts.append(mg)\n",
        "    return all(more_general_parts)\n",
        "\n",
        "def fulfills(example, hypothesis):\n",
        "# the implementation is the same as for hypotheses:\n",
        "    return more_general(hypothesis, example)\n",
        "def min_generalizations(h, x):\n",
        "    h_new = list(h)\n",
        "    for i in range(len(h)):\n",
        "        if not fulfills(x[i:i+1], h[i:i+1]):\n",
        "            h_new[i] = '?' if h[i] != '0'else x[i]\n",
        "    return [tuple(h_new)]\n",
        "\n",
        "def min_specializations(h, domains, x):\n",
        "    results = []\n",
        "    for i in range(len(h)):\n",
        "        if h[i] == \"?\":\n",
        "            for val in domains[i]:\n",
        "                if x[i] != val:\n",
        "                    h_new = h[:i] + (val,) + h[i+1:]\n",
        "                    results.append(h_new)\n",
        "        elif h[i] != \"0\":\n",
        "            h_new = h[:i] + ('0',) + h[i+1:]\n",
        "            results.append(h_new)\n",
        "    return results\n",
        "\n",
        "def generalize_S(x, G, S):\n",
        "    S_prev = list(S)\n",
        "    for s in S_prev:\n",
        "        if s not in S:\n",
        "            continue\n",
        "            if not fulfills(x, s):\n",
        "                S.remove(s)\n",
        "                Splus = min_generalizations(s, x)\n",
        "                ## keep only generalizations that have a counterpart in G\n",
        "                S.update([h for h in Splus if any([more_general(g,h)for g in G])])\n",
        "                ## remove hypotheses less specific than any other in S\n",
        "                S.difference_update([h for h in S if\n",
        "                                     any([more_general(h, h1) for h1 in S if h != h1])])\n",
        "    return S\n",
        "\n",
        "def specialize_G(x, domains, G, S):\n",
        "    G_prev = list(G)\n",
        "    for g in G_prev:\n",
        "        if g not in G:\n",
        "            continue\n",
        "            if fulfills(x, g):\n",
        "                G.remove(g)\n",
        "                Gminus = min_specializations(g, domains, x)\n",
        "                ## keep only specializations that have a conuterpart in S\n",
        "                G.update([h for h in Gminus if\n",
        "                          any([more_general(h, s)for s in S])])\n",
        "                ## remove hypotheses less general than any other in G\n",
        "                G.difference_update([h for h in G if\n",
        "                                     any([more_general(g1, h) for g1 in G if h != g1])])\n",
        "    return G\n",
        "\n",
        "def candidate_elimination(examples):\n",
        "    domains = get_domains(examples)[:-1]\n",
        "    n = len(domains)\n",
        "    G = set([(\"?\",)*n])\n",
        "    S = set([(\"0\",)*n])\n",
        "    print(\"Maximally specific hypotheses - S \")\n",
        "    print(\"Maximally general hypotheses - G \")\n",
        "    i=0\n",
        "    print(\"\\nS[0]:\",str(S),\"\\nG[0]:\",str(G))\n",
        "    for xcx in examples:\n",
        "        i=i+1\n",
        "        x, cx = xcx[:-1], xcx[-1]\n",
        "        # Splitting data into attributes and decisions\n",
        "        if cx=='Y': # x is positive example\n",
        "            G = {g for g in G if fulfills(x, g)}\n",
        "            S = generalize_S(x, G, S)\n",
        "        else: # x is negative example\n",
        "            S = {s for s in S if not fulfills(x, s)}\n",
        "            G = specialize_G(x, domains, G, S)\n",
        "            print(\"\\nS[{0}]:\".format(i),S)\n",
        "            print(\"G[{0}]:\".format(i),G)\n",
        "    return\n",
        "with open('/content/drive/MyDrive/Colab Notebooks/MLT LAB/data1.csv') as csvFile:\n",
        "    examples = [tuple(line) for line in csv.reader(csvFile)]\n",
        "\n",
        "candidate_elimination(examples)\n"
      ],
      "metadata": {
        "colab": {
          "base_uri": "https://localhost:8080/"
        },
        "id": "WprAdgI9-p87",
        "outputId": "8b0cc62c-2b5d-4e82-d8fc-5d72424e3ff7"
      },
      "execution_count": 3,
      "outputs": [
        {
          "output_type": "stream",
          "name": "stdout",
          "text": [
            "Maximally specific hypotheses - S \n",
            "Maximally general hypotheses - G \n",
            "\n",
            "S[0]: {('0', '0', '0', '0', '0', '0')} \n",
            "G[0]: {('?', '?', '?', '?', '?', '?')}\n",
            "\n",
            "S[1]: {('0', '0', '0', '0', '0', '0')}\n",
            "G[1]: {('?', '?', '?', '?', '?', '?')}\n",
            "\n",
            "S[2]: {('0', '0', '0', '0', '0', '0')}\n",
            "G[2]: {('?', '?', '?', '?', '?', '?')}\n",
            "\n",
            "S[3]: {('0', '0', '0', '0', '0', '0')}\n",
            "G[3]: {('?', '?', '?', '?', '?', '?')}\n",
            "\n",
            "S[4]: {('0', '0', '0', '0', '0', '0')}\n",
            "G[4]: {('?', '?', '?', '?', '?', '?')}\n",
            "\n",
            "S[5]: {('0', '0', '0', '0', '0', '0')}\n",
            "G[5]: {('?', '?', '?', '?', '?', '?')}\n"
          ]
        }
      ]
    },
    {
      "cell_type": "markdown",
      "source": [
        "\n",
        "EXNO 3 - ID3 ALGORITHM"
      ],
      "metadata": {
        "id": "p_p8dTcdv1AQ"
      }
    },
    {
      "cell_type": "code",
      "source": [
        "import numpy as np\n",
        "import math\n",
        "import csv\n",
        "\n",
        "def read_data(filename):\n",
        "    with open(filename, 'r') as csvfile:\n",
        "        datareader = csv.reader(csvfile, delimiter=',')\n",
        "        headers = next(datareader)\n",
        "        metadata = []\n",
        "        traindata = []\n",
        "        for name in headers:\n",
        "            metadata.append(name)\n",
        "        for row in datareader:\n",
        "            traindata.append(row)\n",
        "\n",
        "    return (metadata, traindata)\n",
        "\n",
        "class Node:\n",
        "    def __init__(self, attribute):\n",
        "        self.attribute = attribute\n",
        "        self.children = []\n",
        "        self.answer = \"\"\n",
        "       \n",
        "    def __str__(self):\n",
        "        return self.attribute\n",
        "\n",
        "def subtables(data, col, delete):\n",
        "    dict = {}\n",
        "    items = np.unique(data[:, col])\n",
        "    count = np.zeros((items.shape[0], 1), dtype=np.int32)    \n",
        "   \n",
        "    for x in range(items.shape[0]):\n",
        "        for y in range(data.shape[0]):\n",
        "            if data[y, col] == items[x]:\n",
        "                count[x] += 1\n",
        "               \n",
        "    for x in range(items.shape[0]):\n",
        "        dict[items[x]] = np.empty((int(count[x]), data.shape[1]), dtype=\"|S32\")\n",
        "        pos = 0\n",
        "        for y in range(data.shape[0]):\n",
        "            if data[y, col] == items[x]:\n",
        "                dict[items[x]][pos] = data[y]\n",
        "                pos += 1      \n",
        "        if delete:\n",
        "            dict[items[x]] = np.delete(dict[items[x]], col, 1)\n",
        "       \n",
        "    return items, dict\n",
        "\n",
        "def entropy(S):\n",
        "    items = np.unique(S)\n",
        "\n",
        "    if items.size == 1:\n",
        "        return 0\n",
        "   \n",
        "    counts = np.zeros((items.shape[0], 1))\n",
        "    sums = 0\n",
        "   \n",
        "    for x in range(items.shape[0]):\n",
        "        counts[x] = sum(S == items[x]) / (S.size * 1.0)\n",
        "\n",
        "    for count in counts:\n",
        "        sums += -1 * count * math.log(count, 2)\n",
        "    return sums\n",
        "\n",
        "def gain_ratio(data, col):\n",
        "    items, dict = subtables(data, col, delete=False)\n",
        "               \n",
        "    total_size = data.shape[0]\n",
        "    entropies = np.zeros((items.shape[0], 1))\n",
        "    intrinsic = np.zeros((items.shape[0], 1))\n",
        "   \n",
        "    for x in range(items.shape[0]):\n",
        "        ratio = dict[items[x]].shape[0]/(total_size * 1.0)\n",
        "        entropies[x] = ratio * entropy(dict[items[x]][:, -1])\n",
        "        intrinsic[x] = ratio * math.log(ratio, 2)\n",
        "       \n",
        "    total_entropy = entropy(data[:, -1])\n",
        "    iv = -1 * sum(intrinsic)\n",
        "   \n",
        "    for x in range(entropies.shape[0]):\n",
        "        total_entropy -= entropies[x]\n",
        "       \n",
        "    return total_entropy / iv\n",
        "\n",
        "def create_node(data, metadata):\n",
        "    if (np.unique(data[:, -1])).shape[0] == 1:\n",
        "        node = Node(\"\")\n",
        "        node.answer = np.unique(data[:, -1])[0]\n",
        "        return node\n",
        "       \n",
        "    gains = np.zeros((data.shape[1] - 1, 1))\n",
        "   \n",
        "    for col in range(data.shape[1] - 1):\n",
        "        gains[col] = gain_ratio(data, col)\n",
        "       \n",
        "    split = np.argmax(gains)\n",
        "   \n",
        "    node = Node(metadata[split])    \n",
        "    metadata = np.delete(metadata, split, 0)    \n",
        "   \n",
        "    items, dict = subtables(data, split, delete=True)\n",
        "   \n",
        "    for x in range(items.shape[0]):\n",
        "        child = create_node(dict[items[x]], metadata)\n",
        "        node.children.append((items[x], child))\n",
        "   \n",
        "    return node\n",
        "\n",
        "def empty(size):\n",
        "    s = \"\"\n",
        "    for x in range(size):\n",
        "        s += \"   \"\n",
        "    return s\n",
        "\n",
        "def print_tree(node, level):\n",
        "    if node.answer != \"\":\n",
        "        print(empty(level), node.answer)\n",
        "        return\n",
        "    print(empty(level), node.attribute)\n",
        "    for value, n in node.children:\n",
        "        print(empty(level + 1), value)\n",
        "        print_tree(n, level + 2)\n",
        "\n",
        "metadata, traindata = read_data(\"/content/drive/MyDrive/Colab Notebooks/MLT LAB/data3.csv\")\n",
        "data = np.array(traindata)\n",
        "node = create_node(data, metadata)\n",
        "print_tree(node, 0)\n",
        "\n"
      ],
      "metadata": {
        "id": "atnZKbPQv_Gq",
        "colab": {
          "base_uri": "https://localhost:8080/"
        },
        "outputId": "7d28d34d-062e-4511-bf3b-2d52c37f295a"
      },
      "execution_count": null,
      "outputs": [
        {
          "output_type": "stream",
          "name": "stdout",
          "text": [
            " Humidity\n",
            "    high\n",
            "       b'yes'\n",
            "    normal\n",
            "       Temperature\n",
            "          b'cool'\n",
            "             b'no'\n",
            "          b'hot'\n",
            "             b'no'\n",
            "          b'mild'\n",
            "             b'yes'\n"
          ]
        }
      ]
    },
    {
      "cell_type": "markdown",
      "source": [
        "# EXNO - 4 : BASIC BACK PROPAGATION "
      ],
      "metadata": {
        "id": "elEGGdFV1fa2"
      }
    },
    {
      "cell_type": "code",
      "source": [
        "import numpy as np # numpy is commonly used to process number array\n",
        "\n",
        "X = np.array(([2, 9], [1, 5], [3, 6]), dtype=float) # Features ( Hrs Slept, Hrs Studied)\n",
        "y = np.array(([92], [86], [89]), dtype=float) # Labels(Marks obtained)\n",
        "\n",
        "X = X/np.amax(X,axis=0) # Normalize\n",
        "y = y/100\n",
        "\n",
        "def sigmoid(x):\n",
        "    return 1/(1 + np.exp(-x))\n",
        "def sigmoid_grad(x):\n",
        "    return x * (1 - x)\n",
        "\n",
        "# Variable initialization\n",
        "epoch=1000 #Setting training iterations\n",
        "eta =0.2 #Setting learning rate (eta)\n",
        "input_neurons = 2 #number of features in data set\n",
        "hidden_neurons = 3 #number of hidden layers neurons\n",
        "output_neurons = 1 #number of neurons at output layer\n",
        "\n",
        "# Weight and bias - Random initialization\n",
        "wh=np.random.uniform(size=(input_neurons,hidden_neurons)) # 2x3\n",
        "bh=np.random.uniform(size=(1,hidden_neurons)) # 1x3\n",
        "wout=np.random.uniform(size=(hidden_neurons,output_neurons)) # 1x1\n",
        "bout=np.random.uniform(size=(1,output_neurons))\n",
        "\n",
        "for i in range(epoch):\n",
        "    #Forward Propogation\n",
        "    h_ip=np.dot(X,wh) + bh # Dot product + bias\n",
        "    h_act = sigmoid(h_ip) # Activation function\n",
        "    o_ip=np.dot(h_act,wout) + bout\n",
        "    output = sigmoid(o_ip)\n",
        "\n",
        "#Backpropagation\n",
        "# Error at Output layer\n",
        "Eo = y-output # Error at o/p\n",
        "outgrad = sigmoid_grad(output)\n",
        "d_output = Eo* outgrad # Errj=Oj(1-Oj)(Tj-Oj)\n",
        "\n",
        "# Error at Hidden later\n",
        "Eh = d_output.dot(wout.T) # .T means transpose\n",
        "hiddengrad = sigmoid_grad(h_act) # How much hidden layer wts contributed to error\n",
        "d_hidden = Eh * hiddengrad\n",
        "wout += h_act.T.dot(d_output) *eta # Dotproduct of nextlayererror and currentlayerop\n",
        "wh += X.T.dot(d_hidden) *eta\n",
        "\n",
        "print(\"Normalized Input: \\n\" + str(X))\n",
        "print(\"Actual Output: \\n\" + str(y))\n",
        "print(\"Predicted Output: \\n\" ,output)"
      ],
      "metadata": {
        "colab": {
          "base_uri": "https://localhost:8080/"
        },
        "id": "RFN-1BZk1xGt",
        "outputId": "026356f9-8b67-4489-b192-c82155c02eaa"
      },
      "execution_count": null,
      "outputs": [
        {
          "output_type": "stream",
          "name": "stdout",
          "text": [
            "Normalized Input: \n",
            "[[0.66666667 1.        ]\n",
            " [0.33333333 0.55555556]\n",
            " [1.         0.66666667]]\n",
            "Actual Output: \n",
            "[[0.92]\n",
            " [0.86]\n",
            " [0.89]]\n",
            "Predicted Output: \n",
            " [[0.82734341]\n",
            " [0.81715426]\n",
            " [0.82279745]]\n"
          ]
        }
      ]
    },
    {
      "cell_type": "markdown",
      "source": [
        "# EXNO - 5 :  NAIVE BAYESIAN CLASSIFIER"
      ],
      "metadata": {
        "id": "k-ufR1z49KnA"
      }
    },
    {
      "cell_type": "code",
      "source": [
        "import pandas as pd\n",
        "from sklearn.model_selection import train_test_split\n",
        "from sklearn.naive_bayes import GaussianNB\n",
        "from sklearn import metrics\n",
        "\n",
        "df = pd.read_csv(\"/content/drive/MyDrive/Colab Notebooks/MLT LAB/pima_indian.csv\")\n",
        "feature_col_names = ['num_preg', 'glucose_conc', 'diastolic_bp', 'thickness', 'insulin', 'bmi', 'diab_pred', 'age']\n",
        "predicted_class_names = ['diabetes']\n",
        "\n",
        "X = df[feature_col_names].values # these are factors for the prediction\n",
        "y = df[predicted_class_names].values # this is what we want to predict\n",
        "\n",
        "#splitting the dataset into train and test data\n",
        "\n",
        "xtrain,xtest,ytrain,ytest=train_test_split(X,y,test_size=0.33)\n",
        "\n",
        "print ('\\n the total number of Training Data :',ytrain.shape)\n",
        "print ('\\n the total number of Test Data :',ytest.shape)\n",
        "\n",
        "\n",
        "# Training Naive Bayes (NB) classifier on training data.\n",
        "\n",
        "clf = GaussianNB().fit(xtrain,ytrain.ravel())\n",
        "predicted = clf.predict(xtest)\n",
        "predictTestData= clf.predict([[6,148,72,35,0,33.6,0.627,50]])\n",
        "\n",
        "#printing Confusion matrix, accuracy, Precision and Recall\n",
        "\n",
        "print('\\n Confusion matrix')\n",
        "print(metrics.confusion_matrix(ytest,predicted))\n",
        "\n",
        "print('\\n Accuracy of the classifier is',metrics.accuracy_score(ytest,predicted))\n",
        "\n",
        "print('\\n The value of Precision', metrics.precision_score(ytest,predicted))\n",
        "\n",
        "print('\\n The value of Recall', metrics.recall_score(ytest,predicted))\n",
        "\n",
        "print(\"Predicted Value for individual Test Data:\", predictTestData)"
      ],
      "metadata": {
        "colab": {
          "base_uri": "https://localhost:8080/"
        },
        "id": "ksl9ozSg5LX3",
        "outputId": "e7db61e1-d9a3-4f33-f554-d7468eb9ce3e"
      },
      "execution_count": null,
      "outputs": [
        {
          "output_type": "stream",
          "name": "stdout",
          "text": [
            "\n",
            " the total number of Training Data : (514, 1)\n",
            "\n",
            " the total number of Test Data : (254, 1)\n",
            "\n",
            " Confusion matrix\n",
            "[[132  24]\n",
            " [ 44  54]]\n",
            "\n",
            " Accuracy of the classifier is 0.7322834645669292\n",
            "\n",
            " The value of Precision 0.6923076923076923\n",
            "\n",
            " The value of Recall 0.5510204081632653\n",
            "Predicted Value for individual Test Data: [1]\n"
          ]
        }
      ]
    },
    {
      "cell_type": "markdown",
      "source": [
        "# EXNO - 6DOCUMENT CLASSIFICATION"
      ],
      "metadata": {
        "id": "0UgmdTSX_Urx"
      }
    },
    {
      "cell_type": "code",
      "source": [
        "import pandas  as  pd\n",
        "msg=pd.read_csv('/content/drive/MyDrive/Colab Notebooks/MLT LAB/Data6.csv',names=['message','label'])\n",
        "#Tabular form data\n",
        "print('Total instances in the dataset:',msg.shape[0])\n",
        "\n",
        "msg['labelnum']=msg.label.map({'pos':1,'neg':0})\n",
        "X=msg.message\n",
        "Y=msg.labelnum\n",
        "\n",
        "print('\\nThe message and its label of first 5 instances are listed below')\n",
        "X5, Y5 = X[0:5], msg.label[0:5]\n",
        "for x, y in zip(X5,Y5):\n",
        "  print(x,',',y)\n",
        "\n",
        "# Splitting the dataset into train and test data\n",
        "from sklearn.model_selection import train_test_split\n",
        "\n",
        "xtrain,xtest,ytrain,ytest=train_test_split(X,Y)\n",
        "print('\\nDataset is split into Training and Testing samples')\n",
        "print('Total training instances :', xtrain.shape[0])\n",
        "print('Total testing instances :', xtest.shape[0])\n",
        "\n",
        "# Output of count vectoriser is a sparse matrix\n",
        "# CountVectorizer - stands for 'feature extraction'\n",
        "from sklearn.feature_extraction.text import CountVectorizer\n",
        "count_vect = CountVectorizer()\n",
        "xtrain_dtm = count_vect.fit_transform(xtrain) #Sparse matrix xtest_dtm = count_vect.transform(xtest)\n",
        "print('\\nTotal features extracted using CountVectorizer:',xtrain_dtm.shape[1])\n",
        "\n",
        "print('\\nFeatures for first 5 training instances are listed below')\n",
        "df=pd.DataFrame(xtrain_dtm.toarray(),columns=count_vect.get_feature_names())\n",
        "print(df[0:5])\n",
        "#tabular representation\n",
        "#print(xtrain_dtm) #Same as above but sparse matrix representation\n",
        "\n",
        "# Training Naive Bayes (NB) classifier on training data. from sklearn.naive_bayes import MultinomialNB\n",
        "clf = MultinomialNB().fit(xtrain_dtm,ytrain)\n",
        "predicted = clf.predict(xtest_dtm)\n",
        "\n",
        "print('\\nClassstification results of testing samples are given below')\n",
        "for doc, p in zip(xtest, predicted):\n",
        "    pred = 'pos' if p==1 else 'neg'\n",
        "    print('%s -> %s ' % (doc, pred))\n",
        "\n",
        "#printing accuracy metrics from sklearn import metrics print('\\nAccuracy metrics')\n",
        "print('Accuracy of the classifer is',metrics.accuracy_score(ytest,predicted))\n",
        "\n",
        "print('Recall :',metrics.recall_score(ytest,predicted), '\\nPrecison :',metrics.precision_score(ytest,predicted))\n",
        "print('Confusion matrix')\n",
        "print(metrics.confusion_matrix(ytest,predicted))\n"
      ],
      "metadata": {
        "id": "ZCMiG2ijAdHu",
        "colab": {
          "base_uri": "https://localhost:8080/",
          "height": 875
        },
        "outputId": "8687d211-a1f1-4145-f839-57357b316272"
      },
      "execution_count": null,
      "outputs": [
        {
          "output_type": "stream",
          "name": "stdout",
          "text": [
            "Total instances in the dataset: 18\n",
            "\n",
            "The message and its label of first 5 instances are listed below\n",
            "I love this sandwich , pos \n",
            "This is an amazing place , pos \n",
            "This is my best work , pos \n",
            "I feel very good about these beers , pos\n",
            "What an awesome view , pos \n",
            "\n",
            "Dataset is split into Training and Testing samples\n",
            "Total training instances : 13\n",
            "Total testing instances : 5\n",
            "\n",
            "Total features extracted using CountVectorizer: 47\n",
            "\n",
            "Features for first 5 training instances are listed below\n",
            "   about  am  amazing  an  awesome  bad  beers  boss  can  deal  ...  tired  \\\n",
            "0      0   0        1   1        0    0      0     0    0     0  ...      0   \n",
            "1      0   0        0   0        0    0      0     0    0     0  ...      0   \n",
            "2      0   0        0   0        0    0      0     0    0     0  ...      0   \n",
            "3      0   1        0   0        0    0      0     0    0     0  ...      1   \n",
            "4      0   0        0   0        0    0      0     0    1     1  ...      0   \n",
            "\n",
            "   to  today  tomorrow  very  we  went  what  will  with  \n",
            "0   0      0         0     0   0     0     0     0     0  \n",
            "1   0      0         0     0   0     0     1     0     0  \n",
            "2   0      0         0     0   0     0     0     0     0  \n",
            "3   0      0         0     0   0     0     0     0     0  \n",
            "4   0      0         0     0   0     0     0     0     1  \n",
            "\n",
            "[5 rows x 47 columns]\n"
          ]
        },
        {
          "output_type": "stream",
          "name": "stderr",
          "text": [
            "/usr/local/lib/python3.7/dist-packages/sklearn/utils/deprecation.py:87: FutureWarning: Function get_feature_names is deprecated; get_feature_names is deprecated in 1.0 and will be removed in 1.2. Please use get_feature_names_out instead.\n",
            "  warnings.warn(msg, category=FutureWarning)\n"
          ]
        },
        {
          "output_type": "error",
          "ename": "NameError",
          "evalue": "ignored",
          "traceback": [
            "\u001b[0;31m---------------------------------------------------------------------------\u001b[0m",
            "\u001b[0;31mNameError\u001b[0m                                 Traceback (most recent call last)",
            "\u001b[0;32m<ipython-input-8-7dde6ead62e8>\u001b[0m in \u001b[0;36m<module>\u001b[0;34m\u001b[0m\n\u001b[1;32m     35\u001b[0m \u001b[0;34m\u001b[0m\u001b[0m\n\u001b[1;32m     36\u001b[0m \u001b[0;31m# Training Naive Bayes (NB) classifier on training data. from sklearn.naive_bayes import MultinomialNB\u001b[0m\u001b[0;34m\u001b[0m\u001b[0;34m\u001b[0m\u001b[0;34m\u001b[0m\u001b[0m\n\u001b[0;32m---> 37\u001b[0;31m \u001b[0mclf\u001b[0m \u001b[0;34m=\u001b[0m \u001b[0mMultinomialNB\u001b[0m\u001b[0;34m(\u001b[0m\u001b[0;34m)\u001b[0m\u001b[0;34m.\u001b[0m\u001b[0mfit\u001b[0m\u001b[0;34m(\u001b[0m\u001b[0mxtrain_dtm\u001b[0m\u001b[0;34m,\u001b[0m\u001b[0mytrain\u001b[0m\u001b[0;34m)\u001b[0m\u001b[0;34m\u001b[0m\u001b[0;34m\u001b[0m\u001b[0m\n\u001b[0m\u001b[1;32m     38\u001b[0m \u001b[0mpredicted\u001b[0m \u001b[0;34m=\u001b[0m \u001b[0mclf\u001b[0m\u001b[0;34m.\u001b[0m\u001b[0mpredict\u001b[0m\u001b[0;34m(\u001b[0m\u001b[0mxtest_dtm\u001b[0m\u001b[0;34m)\u001b[0m\u001b[0;34m\u001b[0m\u001b[0;34m\u001b[0m\u001b[0m\n\u001b[1;32m     39\u001b[0m \u001b[0;34m\u001b[0m\u001b[0m\n",
            "\u001b[0;31mNameError\u001b[0m: name 'MultinomialNB' is not defined"
          ]
        }
      ]
    },
    {
      "cell_type": "markdown",
      "source": [
        "# EXNO - 7 BAYESIAN NETWORK"
      ],
      "metadata": {
        "id": "LxtpRjYne1Z1"
      }
    },
    {
      "cell_type": "code",
      "source": [
        "from  pgmpy.models  import  BayesianModel \n",
        "from pgmpy.factors.discrete import TabularCPD\n",
        "from pgmpy.inference import VariableElimination\n",
        "\n",
        "cancer_model = BayesianModel([('Pollution', 'Cancer'),('Smoker', 'Cancer'),('Cancer', 'Xray'),('Cancer', 'Dyspnoea')])\n",
        "\n",
        "print('Baysian network nodes are:') \n",
        "print('\\t',cancer_model.nodes()) \n",
        "print('Baysian network edges are:') \n",
        "print('\\t',cancer_model.edges())\n",
        "\n",
        "cpd_poll = TabularCPD(variable='Pollution', variable_card=2, values=[[0.9], [0.1]])\n",
        "cpd_smoke= TabularCPD(variable='Smoker', variable_card=2, values=[[0.3], [0.7]])\n",
        "cpd_cancer= TabularCPD(variable='Cancer', variable_card=2,values=[[0.03, 0.05, 0.001, 0.02],[0.97, 0.95, 0.999, 0.98]],evidence=['Smoker', 'Pollution'], evidence_card=[2, 2])\n",
        "\n",
        "cpd_xray = TabularCPD(variable='Xray', variable_card=2, values=[[0.9, 0.2], [0.1, 0.8]],evidence=['Cancer'], evidence_card=[2]) \n",
        "cpd_dysp = TabularCPD(variable='Dyspnoea', variable_card=2,values=[[0.65, 0.3], [0.35, 0.7]],evidence=['Cancer'], evidence_card=[2])\n",
        "\n",
        "cancer_model.add_cpds(cpd_poll, cpd_smoke, cpd_cancer, cpd_xray, cpd_dysp) \n",
        "print('Model generated by adding conditional probability disttributions(cpds)')\n",
        "\n",
        "print('Checking for Correctness of model : ', end='' ) \n",
        "print(cancer_model.check_model())\n",
        "\n",
        "'''print('All local idependencies are as follows') \n",
        "cancer_model.get_independencies()\n",
        "'''\n",
        "print('Displaying CPDs') \n",
        "print(cancer_model.get_cpds('Pollution')) \n",
        "print(cancer_model.get_cpds('Smoker')) \n",
        "print(cancer_model.get_cpds('Cancer')) \n",
        "print(cancer_model.get_cpds('Xray')) \n",
        "print(cancer_model.get_cpds('Dyspnoea'))\n",
        "\n",
        "cancer_infer = VariableElimination(cancer_model)\n",
        "print('\\nInferencing with Bayesian Network'); \n",
        "print('\\nProbability of Cancer given Smoker')\n",
        "q = cancer_infer.query(variables=['Cancer'], evidence={'Smoker': 1})\n",
        "print(q)\n",
        "\n",
        "\n",
        "print('\\nProbability of Cancer given Smoker,Pollution')\n",
        "q = cancer_infer.query(variables=['Cancer'], evidence={'Smoker': 1,'Pollution': 1}) \n",
        "print(q)\n",
        "\n",
        "import numpy as np\n",
        "import pandas as pd\n",
        "import csv\n",
        "from pgmpy.estimators import MaximumLikelihoodEstimator \n",
        "from pgmpy.models import BayesianModel\n",
        "from pgmpy.inference import VariableElimination\n",
        "\n",
        "lines = list(csv.reader(open('/content/drive/MyDrive/Colab Notebooks/MLT LAB/heart.csv', 'r'))); \n",
        "attributes = lines[0]\n",
        "\n",
        "heartDisease = pd.read_csv('/content/drive/MyDrive/Colab Notebooks/MLT LAB/heart.csv', names = attributes) \n",
        "heartDisease = heartDisease.replace('?', np.nan)\n",
        "print('Few examples from the dataset are given below') \n",
        "print(heartDisease.head())\n",
        "print('\\nAttributes and datatypes') \n",
        "print(heartDisease.dtypes)\n",
        "\n",
        "model = BayesianModel([('age', 'trestbps'), ('age', 'fbs'), ('sex', 'trestbps'), ('sex', 'trestbps'),('exang', 'trestbps'),('trestbps','heartdisease'),('fbs','heartdisease'),('heartdisease','restecg'),('heartdisease','thalach'),('heartdisease','chol')])\n",
        "\n",
        "print('\\nLearning CPDs using Maximum Likelihood Estimators...'); \n",
        "model.fit(heartDisease, estimator=MaximumLikelihoodEstimator)\n",
        "print('\\nInferencing with Bayesian Network:') \n",
        "HeartDisease_infer = VariableElimination(model)\n",
        "\n",
        "print('\\n1.Probability of HeartDisease given Age=28')\n",
        "\n",
        "\n",
        "print('\\n2. Probability of HeartDisease given chol (Cholestoral) =100')\n",
        "q = HeartDisease_infer.query(variables=['heartdisease'], evidence={'chol': 100}) \n",
        "print(q)\n",
        "\n",
        "\n"
      ],
      "metadata": {
        "colab": {
          "base_uri": "https://localhost:8080/",
          "height": 1000
        },
        "id": "KqA3QRUue1NJ",
        "outputId": "f3fe1850-8987-4de7-e834-951026847741"
      },
      "execution_count": null,
      "outputs": [
        {
          "output_type": "stream",
          "name": "stdout",
          "text": [
            "Baysian network nodes are:\n",
            "\t ['Pollution', 'Cancer', 'Smoker', 'Xray', 'Dyspnoea']\n",
            "Baysian network edges are:\n",
            "\t [('Pollution', 'Cancer'), ('Cancer', 'Xray'), ('Cancer', 'Dyspnoea'), ('Smoker', 'Cancer')]\n",
            "Model generated by adding conditional probability disttributions(cpds)\n",
            "Checking for Correctness of model : True\n",
            "Displaying CPDs\n",
            "+--------------+-----+\n",
            "| Pollution(0) | 0.9 |\n",
            "+--------------+-----+\n",
            "| Pollution(1) | 0.1 |\n",
            "+--------------+-----+\n",
            "+-----------+-----+\n",
            "| Smoker(0) | 0.3 |\n",
            "+-----------+-----+\n",
            "| Smoker(1) | 0.7 |\n",
            "+-----------+-----+\n",
            "+-----------+--------------+--------------+--------------+--------------+\n",
            "| Smoker    | Smoker(0)    | Smoker(0)    | Smoker(1)    | Smoker(1)    |\n",
            "+-----------+--------------+--------------+--------------+--------------+\n",
            "| Pollution | Pollution(0) | Pollution(1) | Pollution(0) | Pollution(1) |\n",
            "+-----------+--------------+--------------+--------------+--------------+\n",
            "| Cancer(0) | 0.03         | 0.05         | 0.001        | 0.02         |\n",
            "+-----------+--------------+--------------+--------------+--------------+\n",
            "| Cancer(1) | 0.97         | 0.95         | 0.999        | 0.98         |\n",
            "+-----------+--------------+--------------+--------------+--------------+\n",
            "+---------+-----------+-----------+\n",
            "| Cancer  | Cancer(0) | Cancer(1) |\n",
            "+---------+-----------+-----------+\n",
            "| Xray(0) | 0.9       | 0.2       |\n",
            "+---------+-----------+-----------+\n",
            "| Xray(1) | 0.1       | 0.8       |\n",
            "+---------+-----------+-----------+\n",
            "+-------------+-----------+-----------+\n",
            "| Cancer      | Cancer(0) | Cancer(1) |\n",
            "+-------------+-----------+-----------+\n",
            "| Dyspnoea(0) | 0.65      | 0.3       |\n",
            "+-------------+-----------+-----------+\n",
            "| Dyspnoea(1) | 0.35      | 0.7       |\n",
            "+-------------+-----------+-----------+\n",
            "\n",
            "Inferencing with Bayesian Network\n",
            "\n",
            "Probability of Cancer given Smoker\n",
            "+-----------+---------------+\n",
            "| Cancer    |   phi(Cancer) |\n",
            "+===========+===============+\n",
            "| Cancer(0) |        0.0029 |\n",
            "+-----------+---------------+\n",
            "| Cancer(1) |        0.9971 |\n",
            "+-----------+---------------+\n",
            "\n",
            "Probability of Cancer given Smoker,Pollution\n",
            "+-----------+---------------+\n",
            "| Cancer    |   phi(Cancer) |\n",
            "+===========+===============+\n",
            "| Cancer(0) |        0.0200 |\n",
            "+-----------+---------------+\n",
            "| Cancer(1) |        0.9800 |\n",
            "+-----------+---------------+\n",
            "Few examples from the dataset are given below\n",
            "   age  sex  cp  trestbps  chol  fbs  restecg  thalach  exang  oldpeak  slope  \\\n",
            "0  age  sex  cp  trestbps  chol  fbs  restecg  thalach  exang  oldpeak  slope   \n",
            "1   63    1   1       145   233    1        2      150      0      2.3      3   \n",
            "2   67    1   4       160   286    0        2      108      1      1.5      2   \n",
            "3   67    1   4       120   229    0        2      129      1      2.6      2   \n",
            "4   37    1   3       130   250    0        0      187      0      3.5      3   \n",
            "\n",
            "   ca  thal  heartdisease  \n",
            "0  ca  thal  heartdisease  \n",
            "1   0     6             0  \n",
            "2   3     3             2  \n",
            "3   2     7             1  \n",
            "4   0     3             0  \n",
            "\n",
            "Attributes and datatypes\n",
            "age             object\n",
            "sex             object\n",
            "cp              object\n",
            "trestbps        object\n",
            "chol            object\n",
            "fbs             object\n",
            "restecg         object\n",
            "thalach         object\n",
            "exang           object\n",
            "oldpeak         object\n",
            "slope           object\n",
            "ca              object\n",
            "thal            object\n",
            "heartdisease    object\n",
            "dtype: object\n",
            "\n",
            "Learning CPDs using Maximum Likelihood Estimators...\n"
          ]
        },
        {
          "output_type": "stream",
          "name": "stderr",
          "text": [
            "/usr/local/lib/python3.7/dist-packages/pgmpy/models/BayesianModel.py:10: FutureWarning: BayesianModel has been renamed to BayesianNetwork. Please use BayesianNetwork class, BayesianModel will be removed in future.\n",
            "  FutureWarning,\n"
          ]
        },
        {
          "output_type": "stream",
          "name": "stdout",
          "text": [
            "\n",
            "Inferencing with Bayesian Network:\n",
            "\n",
            "1.Probability of HeartDisease given Age=28\n",
            "\n",
            "2. Probability of HeartDisease given chol (Cholestoral) =100\n"
          ]
        },
        {
          "output_type": "error",
          "ename": "KeyError",
          "evalue": "ignored",
          "traceback": [
            "\u001b[0;31m---------------------------------------------------------------------------\u001b[0m",
            "\u001b[0;31mKeyError\u001b[0m                                  Traceback (most recent call last)",
            "\u001b[0;32m<ipython-input-21-be5ae5f5fe56>\u001b[0m in \u001b[0;36m<module>\u001b[0;34m\u001b[0m\n\u001b[1;32m     72\u001b[0m \u001b[0;34m\u001b[0m\u001b[0m\n\u001b[1;32m     73\u001b[0m \u001b[0mprint\u001b[0m\u001b[0;34m(\u001b[0m\u001b[0;34m'\\n2. Probability of HeartDisease given chol (Cholestoral) =100'\u001b[0m\u001b[0;34m)\u001b[0m\u001b[0;34m\u001b[0m\u001b[0;34m\u001b[0m\u001b[0m\n\u001b[0;32m---> 74\u001b[0;31m \u001b[0mq\u001b[0m \u001b[0;34m=\u001b[0m \u001b[0mHeartDisease_infer\u001b[0m\u001b[0;34m.\u001b[0m\u001b[0mquery\u001b[0m\u001b[0;34m(\u001b[0m\u001b[0mvariables\u001b[0m\u001b[0;34m=\u001b[0m\u001b[0;34m[\u001b[0m\u001b[0;34m'heartdisease'\u001b[0m\u001b[0;34m]\u001b[0m\u001b[0;34m,\u001b[0m \u001b[0mevidence\u001b[0m\u001b[0;34m=\u001b[0m\u001b[0;34m{\u001b[0m\u001b[0;34m'chol'\u001b[0m\u001b[0;34m:\u001b[0m \u001b[0;36m100\u001b[0m\u001b[0;34m}\u001b[0m\u001b[0;34m)\u001b[0m\u001b[0;34m\u001b[0m\u001b[0;34m\u001b[0m\u001b[0m\n\u001b[0m\u001b[1;32m     75\u001b[0m \u001b[0mprint\u001b[0m\u001b[0;34m(\u001b[0m\u001b[0mq\u001b[0m\u001b[0;34m)\u001b[0m\u001b[0;34m\u001b[0m\u001b[0;34m\u001b[0m\u001b[0m\n\u001b[1;32m     76\u001b[0m \u001b[0;34m\u001b[0m\u001b[0m\n",
            "\u001b[0;32m/usr/local/lib/python3.7/dist-packages/pgmpy/inference/ExactInference.py\u001b[0m in \u001b[0;36mquery\u001b[0;34m(self, variables, evidence, virtual_evidence, elimination_order, joint, show_progress)\u001b[0m\n\u001b[1;32m    336\u001b[0m                 \u001b[0;32mfor\u001b[0m \u001b[0mindex\u001b[0m \u001b[0;32min\u001b[0m \u001b[0mindexes_to_reduce\u001b[0m\u001b[0;34m:\u001b[0m\u001b[0;34m\u001b[0m\u001b[0;34m\u001b[0m\u001b[0m\n\u001b[1;32m    337\u001b[0m                     indexer[index] = phi.get_state_no(\n\u001b[0;32m--> 338\u001b[0;31m                         \u001b[0mphi\u001b[0m\u001b[0;34m.\u001b[0m\u001b[0mvariables\u001b[0m\u001b[0;34m[\u001b[0m\u001b[0mindex\u001b[0m\u001b[0;34m]\u001b[0m\u001b[0;34m,\u001b[0m \u001b[0mevidence\u001b[0m\u001b[0;34m[\u001b[0m\u001b[0mphi\u001b[0m\u001b[0;34m.\u001b[0m\u001b[0mvariables\u001b[0m\u001b[0;34m[\u001b[0m\u001b[0mindex\u001b[0m\u001b[0;34m]\u001b[0m\u001b[0;34m]\u001b[0m\u001b[0;34m\u001b[0m\u001b[0;34m\u001b[0m\u001b[0m\n\u001b[0m\u001b[1;32m    339\u001b[0m                     )\n\u001b[1;32m    340\u001b[0m                 \u001b[0mreduce_indexes\u001b[0m\u001b[0;34m.\u001b[0m\u001b[0mappend\u001b[0m\u001b[0;34m(\u001b[0m\u001b[0mtuple\u001b[0m\u001b[0;34m(\u001b[0m\u001b[0mindexer\u001b[0m\u001b[0;34m)\u001b[0m\u001b[0;34m)\u001b[0m\u001b[0;34m\u001b[0m\u001b[0;34m\u001b[0m\u001b[0m\n",
            "\u001b[0;32m/usr/local/lib/python3.7/dist-packages/pgmpy/utils/state_name.py\u001b[0m in \u001b[0;36mget_state_no\u001b[0;34m(self, var, state_name)\u001b[0m\n\u001b[1;32m     70\u001b[0m         \"\"\"\n\u001b[1;32m     71\u001b[0m         \u001b[0;32mif\u001b[0m \u001b[0mself\u001b[0m\u001b[0;34m.\u001b[0m\u001b[0mstate_names\u001b[0m\u001b[0;34m:\u001b[0m\u001b[0;34m\u001b[0m\u001b[0;34m\u001b[0m\u001b[0m\n\u001b[0;32m---> 72\u001b[0;31m             \u001b[0;32mreturn\u001b[0m \u001b[0mself\u001b[0m\u001b[0;34m.\u001b[0m\u001b[0mname_to_no\u001b[0m\u001b[0;34m[\u001b[0m\u001b[0mvar\u001b[0m\u001b[0;34m]\u001b[0m\u001b[0;34m[\u001b[0m\u001b[0mstate_name\u001b[0m\u001b[0;34m]\u001b[0m\u001b[0;34m\u001b[0m\u001b[0;34m\u001b[0m\u001b[0m\n\u001b[0m\u001b[1;32m     73\u001b[0m         \u001b[0;32melse\u001b[0m\u001b[0;34m:\u001b[0m\u001b[0;34m\u001b[0m\u001b[0;34m\u001b[0m\u001b[0m\n\u001b[1;32m     74\u001b[0m             \u001b[0;32mreturn\u001b[0m \u001b[0mstate_name\u001b[0m\u001b[0;34m\u001b[0m\u001b[0;34m\u001b[0m\u001b[0m\n",
            "\u001b[0;31mKeyError\u001b[0m: 100"
          ]
        }
      ]
    },
    {
      "cell_type": "code",
      "source": [],
      "metadata": {
        "id": "6EGQk38JmRB3"
      },
      "execution_count": null,
      "outputs": []
    },
    {
      "cell_type": "markdown",
      "source": [
        "# EXNO - 8 CLUSTERING BASED & K MEANS"
      ],
      "metadata": {
        "id": "8FLq9bCJj5k9"
      }
    },
    {
      "cell_type": "code",
      "source": [
        "import matplotlib.pyplot as plt\n",
        "from sklearn import datasets\n",
        "from sklearn.cluster import KMeans\n",
        "import pandas as pd\n",
        "import numpy as np\n",
        "\n",
        "# import some data to play with \n",
        "iris = datasets.load_iris()\n",
        "X = pd.DataFrame(iris.data)\n",
        "X.columns=['Sepal_Length','Sepal_Width','Petal_Length','Petal_Width']\n",
        "y = pd.DataFrame(iris.target)\n",
        "y.columns=['Targets']\n",
        "\n",
        "# Build the K Means Model \n",
        "model = KMeans(n_clusters=3)\n",
        "model.fit(X) \n",
        "# model.labels_  : Gives cluster no for which samples belongs to\n",
        "\n",
        "# # Visualise the clustering results plt.figure(figsize=(14,14))\n",
        "colormap = np.array(['red', 'lime', 'black'])\n",
        "# Plot the Original Classifications using Petal features plt.subplot(2, 2, 1)\n",
        "plt.scatter(X.Petal_Length, X.Petal_Width, c=colormap[y.Targets], s=40) \n",
        "plt.title('Real Clusters')\n",
        "plt.xlabel('Petal Length')\n",
        "plt.ylabel('Petal Width')\n",
        "plt.show()\n",
        "\n",
        "# Plot the Models Classifications plt.subplot(2, 2, 2)\n",
        "plt.scatter(X.Petal_Length, X.Petal_Width, c=colormap[model.labels_], s=40)\n",
        "plt.title('K-Means Clustering')\n",
        "plt.xlabel('Petal Length')\n",
        "plt.ylabel('Petal Width')\n",
        "plt.show()\n",
        "\n",
        "# General EM for GMM\n",
        "from sklearn import preprocessing\n",
        "# transform your data such that its distribution will have a # mean value 0 and standard deviation of 1.\n",
        "scaler = preprocessing.StandardScaler()\n",
        "scaler.fit(X)\n",
        "xsa = scaler.transform(X)\n",
        "xs = pd.DataFrame(xsa, columns = X.columns)\n",
        "\n",
        "from sklearn.mixture import GaussianMixture\n",
        "gmm = GaussianMixture(n_components=3)\n",
        "gmm.fit(xs)\n",
        "gmm_y = gmm.predict(xs)\n",
        "\n",
        "\n",
        "plt.subplot(2, 2, 3)\n",
        "plt.scatter(X.Petal_Length, X.Petal_Width, c=colormap[gmm_y], s=40)\n",
        "plt.title('GMM Clustering')\n",
        "plt.xlabel('Petal Length') \n",
        "plt.ylabel('Petal Width')\n",
        "plt.show()\n",
        "print('Observation: The GMM using EM algorithm based clustering matched the true labels more closely than the Kmeans.')\n"
      ],
      "metadata": {
        "colab": {
          "base_uri": "https://localhost:8080/",
          "height": 750
        },
        "id": "Tapt5PwSkDr2",
        "outputId": "47eb0572-7e6f-4009-a7e8-b3590f27bdf9"
      },
      "execution_count": null,
      "outputs": [
        {
          "output_type": "display_data",
          "data": {
            "text/plain": [
              "<Figure size 432x288 with 1 Axes>"
            ],
            "image/png": "[encoded data removed]"
          },
          "metadata": {
            "needs_background": "light"
          }
        },
        {
          "output_type": "display_data",
          "data": {
            "text/plain": [
              "<Figure size 432x288 with 1 Axes>"
            ],
            "image/png": "[encoded data removed]"
          },
          "metadata": {
            "needs_background": "light"
          }
        },
        {
          "output_type": "display_data",
          "data": {
            "text/plain": [
              "<Figure size 432x288 with 1 Axes>"
            ],
            "image/png": "[encoded data removed]"
          },
          "metadata": {
            "needs_background": "light"
          }
        },
        {
          "output_type": "stream",
          "name": "stdout",
          "text": [
            "Observation: The GMM using EM algorithm based clustering matched the true labels more closely than the Kmeans.\n"
          ]
        }
      ]
    },
    {
      "cell_type": "markdown",
      "source": [
        "# EXNO - 9 K NEAREST NEIGHBOUR"
      ],
      "metadata": {
        "id": "wRAj0GBfn64z"
      }
    },
    {
      "cell_type": "code",
      "source": [
        "# import the required packages\n",
        "from sklearn.model_selection import train_test_split\n",
        "from sklearn.neighbors import KNeighborsClassifier\n",
        "from sklearn import datasets\n",
        "\n",
        "# Load dataset \n",
        "iris=datasets.load_iris()\n",
        "print(\"Iris Data set loaded...\")\n",
        "\n",
        "# Split the data into train and test samples\n",
        "x_train, x_test, y_train, y_test = train_test_split(iris.data,iris.target,test_size=0.1)\n",
        "print(\"Dataset is split into training and testing...\")\n",
        "print(\"Size of trainng data and its label\",x_train.shape,y_train.shape)\n",
        "print(\"Size of trainng data and its label\",x_test.shape, y_test.shape)\n",
        "\n",
        "# Prints Label no. and their names \n",
        "for i in range(len(iris.target_names)):\n",
        "  print(\"Label\", i , \"-\",str(iris.target_names[i]))\n",
        " \n",
        "\n",
        "# Create object of KNN classifier\n",
        "classifier = KNeighborsClassifier(n_neighbors=1)\n",
        "\n",
        "# Perform Training \n",
        "classifier.fit(x_train, y_train) # Perform testing\n",
        "y_pred=classifier.predict(x_test)\n",
        "\n",
        "# Display the results\n",
        "print(\"Results of Classification using K-nn with K=1 \")\n",
        "for r in range(0,len(x_test)):\n",
        "  print(\" Sample:\", str(x_test[r]), \" Actual-label:\", str(y_test[r]), \" Predicted-label:\",\n",
        "str(y_pred[r]))\n",
        "print(\"Classification Accuracy :\" , classifier.score(x_test,y_test));\n",
        "\n",
        "#from sklearn.metrics import classification_report, confusion_matrix #print('Confusion Matrix')\n",
        "#print(confusion_matrix(y_test,y_pred)) #print('Accuracy Metrics') #print(classification_report(y_test,y_pred))\n"
      ],
      "metadata": {
        "colab": {
          "base_uri": "https://localhost:8080/"
        },
        "id": "pAqua_B4oDVK",
        "outputId": "2de1cd61-2a60-44f1-e3ed-08bc19086525"
      },
      "execution_count": null,
      "outputs": [
        {
          "output_type": "stream",
          "name": "stdout",
          "text": [
            "Iris Data set loaded...\n",
            "Dataset is split into training and testing...\n",
            "Size of trainng data and its label (135, 4) (135,)\n",
            "Size of trainng data and its label (15, 4) (15,)\n",
            "Label 0 - setosa\n",
            "Label 1 - versicolor\n",
            "Label 2 - virginica\n",
            "Results of Classification using K-nn with K=1 \n",
            " Sample: [5.2 4.1 1.5 0.1]  Actual-label: 0  Predicted-label: 0\n",
            " Sample: [5.7 3.8 1.7 0.3]  Actual-label: 0  Predicted-label: 0\n",
            " Sample: [7.2 3.2 6.  1.8]  Actual-label: 2  Predicted-label: 2\n",
            " Sample: [6.  3.  4.8 1.8]  Actual-label: 2  Predicted-label: 2\n",
            " Sample: [5.1 3.8 1.6 0.2]  Actual-label: 0  Predicted-label: 0\n",
            " Sample: [5.4 3.9 1.7 0.4]  Actual-label: 0  Predicted-label: 0\n",
            " Sample: [5.4 3.  4.5 1.5]  Actual-label: 1  Predicted-label: 1\n",
            " Sample: [6.3 2.5 4.9 1.5]  Actual-label: 1  Predicted-label: 2\n",
            " Sample: [6.4 3.2 5.3 2.3]  Actual-label: 2  Predicted-label: 2\n",
            " Sample: [5.7 2.5 5.  2. ]  Actual-label: 2  Predicted-label: 2\n",
            " Sample: [5.  3.6 1.4 0.2]  Actual-label: 0  Predicted-label: 0\n",
            " Sample: [7.7 2.8 6.7 2. ]  Actual-label: 2  Predicted-label: 2\n",
            " Sample: [5.  3.  1.6 0.2]  Actual-label: 0  Predicted-label: 0\n",
            " Sample: [5.4 3.7 1.5 0.2]  Actual-label: 0  Predicted-label: 0\n",
            " Sample: [5.9 3.2 4.8 1.8]  Actual-label: 1  Predicted-label: 2\n",
            "Classification Accuracy : 0.8666666666666667\n"
          ]
        }
      ]
    },
    {
      "cell_type": "code",
      "source": [],
      "metadata": {
        "id": "N_hmYIJ3o7ad"
      },
      "execution_count": null,
      "outputs": []
    },
    {
      "cell_type": "markdown",
      "source": [
        "# EXNO 10 - LOCALLY WEIGHTED REGRESSION ALGORITHM"
      ],
      "metadata": {
        "id": "qn4IDo7JpDmI"
      }
    },
    {
      "cell_type": "code",
      "source": [
        "import matplotlib.pyplot as plt \n",
        "import pandas as pd\n",
        "import numpy as np\n",
        "\n",
        "def kernel(point,xmat, k): \n",
        "    m,n = np.shape(xmat)\n",
        "    weights = np.mat(np.eye((m))) # eye - identity matrix \n",
        "    for j in range(m):\n",
        "        diff = point - X[j]\n",
        "        weights[j,j] = np.exp(diff*diff.T/(-2.0*k**2)) \n",
        "    return weights\n",
        "def localWeight(point,xmat,ymat,k):\n",
        "    wei = kernel(point,xmat,k)\n",
        "    W = (X.T*(wei*X)).I*(X.T*(wei*ymat.T)) \n",
        "    return W\n",
        "\n",
        "def localWeightRegression(xmat,ymat,k): \n",
        "    m,n = np.shape(xmat)\n",
        "    ypred = np.zeros(m) \n",
        "    for i in range(m):\n",
        "        ypred[i] = xmat[i]*localWeight(xmat[i],xmat,ymat,k) \n",
        "    return ypred\n",
        "def graphPlot(X,ypred):\n",
        "    sortindex = X[:,1].argsort(0) #argsort - index of the smallest \n",
        "    xsort = X[sortindex][:,0]\n",
        "    fig = plt.figure()\n",
        "    ax = fig.add_subplot(1,1,1) \n",
        "    ax.scatter(bill,tip, color='green')\n",
        "    ax.plot(xsort[:,1],ypred[sortindex], color = 'red', linewidth=5) \n",
        "    plt.xlabel('Total bill')\n",
        "    plt.ylabel('Tip') \n",
        "    plt.show();\n",
        "data = pd.read_csv('/content/drive/MyDrive/Colab Notebooks/MLT LAB/tips.csv')\n",
        "bill = np.array(data.total_bill) # We use only Bill amount and Tips data   \n",
        "tip = np.array(data.tip)\n",
        "\n",
        "mbill = np.mat(bill) # .mat \n",
        "mtip = np.mat(tip)\n",
        "m= np.shape(mbill)[1] \n",
        "one = np.mat(np.ones(m))\n",
        "X = np.hstack((one.T,mbill.T)) # 244 rows, 2 cols\n",
        "\n",
        "ypred = localWeightRegression(X,mtip,0.5) # increase k to get smooth curves\n",
        "graphPlot(X,ypred)\n",
        "\n",
        "\n",
        "\n"
      ],
      "metadata": {
        "colab": {
          "base_uri": "https://localhost:8080/",
          "height": 279
        },
        "id": "xlcWv3D1pfJ5",
        "outputId": "29ebf70d-44b1-4bff-9e47-22c7c8c11cff"
      },
      "execution_count": null,
      "outputs": [
        {
          "output_type": "display_data",
          "data": {
            "text/plain": [
              "<Figure size 432x288 with 1 Axes>"
            ],
            "image/png": "[encoded data removed]"
          },
          "metadata": {
            "needs_background": "light"
          }
        }
      ]
    },
    {
      "cell_type": "code",
      "source": [],
      "metadata": {
        "id": "Lzg4fAboqOtb"
      },
      "execution_count": null,
      "outputs": []
    }
  ]
}